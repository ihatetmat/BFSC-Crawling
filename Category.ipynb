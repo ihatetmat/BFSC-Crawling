{
 "cells": [
  {
   "cell_type": "code",
   "execution_count": null,
   "metadata": {},
   "outputs": [],
   "source": [
    "import requests\n",
    "import json\n",
    "from bs4 import BeautifulSoup\n",
    "import pandas as pd\n",
    "\n",
    "product_name = []\n",
    "label = []\n",
    "headers = {\n",
    "    '''\n",
    "    여기에 브라우저 헤더 정보가 들어감.\n",
    "    '''\n",
    "}\n",
    "\n",
    "for i in range(1, 15) :\n",
    "    params = {\n",
    "        'catId': '카테고리 넘버',\n",
    "        'eq': '',\n",
    "        'iq': '',\n",
    "        'pagingIndex': f'{i}',      # 페이징\n",
    "        'pagingSize': '80',         # 한 페이지 당 노출하는 제품의 개수\n",
    "        'productSet': 'total',\n",
    "        'sort': 'rel',              # 관련도 순으로 정렬\n",
    "        'viewType': 'list',\n",
    "        'xq': '',\n",
    "    }\n",
    "    response = requests.get(\n",
    "        'https://search.shopping.naver.com/api/search/category',\n",
    "        params=params,\n",
    "        headers=headers\n",
    "    )\n",
    "\n",
    "    soup = BeautifulSoup(response.text, 'html.parser')                  # HTML 에서 제품명 - 카테고리 쌍을 추출하여 데이터 프레임을 생성함.\n",
    "    itemlist = json.loads(soup.text)\n",
    "    for i in itemlist['shoppingResult']['products']:\n",
    "        product_name.append(i['productTitle'])\n",
    "        label.append(i['category2Name'] + \"/\" + i['category3Name'])\n",
    "\n",
    "data_to_append = {\n",
    "    'product_name': product_name,\n",
    "    'label': label\n",
    "}\n",
    "\n",
    "df_to_append = pd.DataFrame(data_to_append)\n",
    "df_to_append"
   ]
  },
  {
   "cell_type": "code",
   "execution_count": 301,
   "metadata": {},
   "outputs": [],
   "source": [
    "with open('example.csv', 'a', encoding='utf-8') as f:           # csv 파일에 저장\n",
    "    df_to_append.to_csv(f, header=False, index=False, encoding='utf-8')"
   ]
  }
 ],
 "metadata": {
  "kernelspec": {
   "display_name": "temp",
   "language": "python",
   "name": "python3"
  },
  "language_info": {
   "codemirror_mode": {
    "name": "ipython",
    "version": 3
   },
   "file_extension": ".py",
   "mimetype": "text/x-python",
   "name": "python",
   "nbconvert_exporter": "python",
   "pygments_lexer": "ipython3",
   "version": "3.12.2"
  }
 },
 "nbformat": 4,
 "nbformat_minor": 2
}
