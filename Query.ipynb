{
 "cells": [
  {
   "cell_type": "code",
   "execution_count": null,
   "metadata": {},
   "outputs": [],
   "source": [
    "import requests\n",
    "import json\n",
    "from bs4 import BeautifulSoup\n",
    "import pandas as pd\n",
    "\n",
    "product_name = []\n",
    "label = []\n",
    "\n",
    "query = input(\"제품 카테고리를 입력 : \")\n",
    "\n",
    "ascii_text = \"\"                                     # 아스키 코드로 전환이 필요함.\n",
    "for char in query:\n",
    "    ascii_text += str(ord(char)) + \" \"\n",
    "\n",
    "headers = {\n",
    "    '''\n",
    "    브라우저 헤더 정보 원래는 referer 를 제외한 여러 요소가 있음.\n",
    "    'referer': f'https://search.shopping.naver.com/search/all?query={ascii_text}',\n",
    "    '''\n",
    "}\n",
    "\n",
    "for i in range(1, 15) :\n",
    "    params = {\n",
    "        'adQuery': f'{query}',                      # 검색어\n",
    "        'eq': '',\n",
    "        'iq': '',\n",
    "        'origQuery': f'{query + f' \"{query}\"'}',    # 검색 시 빠지면 안되는 단어를 지정\n",
    "        'pagingIndex': f'{i}',                      # 페이징\n",
    "        'pagingSize': '80',                         # 한 페이지 당 노출하는 제품 개수\n",
    "        'productSet': 'total',\n",
    "        'query': f'{query}',                        # 검색어\n",
    "        'sort': 'rel',                              # 관련도 순 정리\n",
    "        'viewType': 'list',\n",
    "        'xq': '',\n",
    "    }\n",
    "    response = requests.get(\n",
    "        'https://search.shopping.naver.com/api/search/all',\n",
    "        params=params,\n",
    "        headers=headers\n",
    "    )\n",
    "\n",
    "    soup = BeautifulSoup(response.text, 'html.parser')\n",
    "    itemlist = json.loads(soup.text)\n",
    "    for i in itemlist['shoppingResult']['products']:\n",
    "        product_name.append(i['productTitle'])\n",
    "        label.append('카테고리 명이 들어가야 함.')\n",
    "\n",
    "data_to_append = {\n",
    "    'product_name': product_name,\n",
    "    'label': label\n",
    "}\n",
    "\n",
    "df_to_append = pd.DataFrame(data_to_append)\n",
    "df_to_append"
   ]
  },
  {
   "cell_type": "code",
   "execution_count": null,
   "metadata": {},
   "outputs": [],
   "source": [
    "with open('example.csv', 'a', encoding='utf-8') as f:               # csv 파일로 저장\n",
    "    df_to_append.to_csv(f, header=False, index=False, encoding='utf-8')"
   ]
  }
 ],
 "metadata": {
  "kernelspec": {
   "display_name": "temp",
   "language": "python",
   "name": "python3"
  },
  "language_info": {
   "codemirror_mode": {
    "name": "ipython",
    "version": 3
   },
   "file_extension": ".py",
   "mimetype": "text/x-python",
   "name": "python",
   "nbconvert_exporter": "python",
   "pygments_lexer": "ipython3",
   "version": "3.12.2"
  }
 },
 "nbformat": 4,
 "nbformat_minor": 2
}
